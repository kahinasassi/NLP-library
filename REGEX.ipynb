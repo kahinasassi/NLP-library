{
 "cells": [
  {
   "cell_type": "markdown",
   "metadata": {},
   "source": [
    "# Regular Expressions in Python \"Regex\""
   ]
  },
  {
   "cell_type": "markdown",
   "metadata": {},
   "source": [
    "Regular expressions <b>RE-</b> also caled <b>regex</b> or <b>regexp-</b> is powreful langure tool for matching text patterns.<br>\n",
    "The most common uses of regular expressions are:\n",
    "<ul> \n",
    "<li>Search a string (search and match)</li>\n",
    "<li>Finding a string (findall)</li>\n",
    "<li>Break a string into a sub string (split)</li>\n",
    "<li>Replace a part of a string (sub)</li>\n",
    "\n",
    "</ul>"
   ]
  },
  {
   "cell_type": "markdown",
   "metadata": {},
   "source": [
    "<b>Application of Regex:</b>\n",
    "<ul>\n",
    "<li>Natural Language Processing</li>\n",
    "<li>Web Applications</li>\n",
    "<li>Data Cleansing</li>\n",
    "<li>Data Conversion</li>\n",
    "<li>Text files preprocessing</li>\n",
    "<li>Data Preparation</li>\n",
    "<li>Data science</li>\n",
    "<li>Data Mining</li>\n",
    "<li>String Validations</li>\n",
    "<li>and many other applications.</li>\n",
    "\n",
    "</ul>  \n",
    "    "
   ]
  },
  {
   "cell_type": "markdown",
   "metadata": {},
   "source": [
    "Regular expressions are everywhere. here's some of the reasons why ypu should learn them:\n",
    "<ul>\n",
    "<li><b>They do a lot with less</b>: you can write a few caracters to do something that could have taken dozen of lines of codes to implement </li>\n",
    "<li><b>Standing out from the crowd :</b> most programmers don't know regex .if you don't know , you are about to detach yourself from that category </li>\n",
    "<li><b>They are supper fast :</b> Regex patterns wrote with performance in mind takes a very short time to execute. Backtraking might take some time, but even that has optimal variations that run super fast</li>\n",
    "<li><b>They are portable :</b> the majority of regex work the same way in a variety of programing languages.</li>\n",
    "<li><b>You should learn then reason I do </b> they make your work a lot easier.</li>\n",
    "\n",
    "</ul>"
   ]
  },
  {
   "cell_type": "markdown",
   "metadata": {},
   "source": [
    "<b> Regular Expressions Rules:</b>\n",
    "<ul>\n",
    "<ul><b>indentifiers</b>\n",
    "<li>\\d = any number [0-9]</li>\n",
    "<li>\\D = anything but a number [^0-9]</li>\n",
    "<li>\\s =  white space [\\t\\n\\r\\f\\v]</li>\n",
    "<li>\\S = anything but a space [^\\t\\n\\r\\f\\v]</li>\n",
    "<li>\\w = any letter: alpha numeric character [a-zA-Z0-9_]</li>\n",
    "<li>\\W = anything but a letter  [^a-zA-Z0-9_]</li>\n",
    "<li>. = any character, except for a new line</li>\n",
    "<li>\\b = space around whole words ( boundary between word and non-word</li>\n",
    "<li>\\. = means any character</li>\n",
    "<li><b>Character to remember to escape if used</b> = .+*!?[]{}|\\</li></ul>\n",
    "<ul><b>Modifiers</b>\n",
    "         <li>{1,8} = for digits , u expect 1-8 counts of digits, or \"place\". exp \\w{2,4} = 1234 , exp \\w{1,} = smilling</li>\n",
    "         <li>+ = match 1 or more . exp \\w+ = ABCDF076</li>\n",
    "         <li> ? = match 0 or1 repititions. exp :\\d+? = 1 in 12345778</li>\n",
    "        <li>* = match 0 or More repitions .exp A*B = AAAAB</li>\n",
    "       <li> ^ = matches start of a string</li>\n",
    "       <li>| = matches either/or</li>\n",
    "       <li>[] = range or \"variance\"</li>\n",
    "           <li>{x} = except to see this amount of the preceding code . exp  \\d{2} = 01</li>\n",
    "          <li>{x-y} = except to see this amounts of the preceding code</li></ul>\n",
    "<ul><b>while space Charts:</b>\n",
    "       <li>\\n = new line</li>\n",
    "         <li>\\s = space</li>\n",
    "           <li>\\t = tab</li>\n",
    "               <li>\\e = espace</li>\n",
    "           <li>\\f = from feed</li></ul>\n",
    "<ul><b>Brackets</b>\n",
    "     <li>[] = quant[ia]tative= will find either quantitative , or quantatative</li> \n",
    "      <li>[a-z] = return any lowercase letter a-z</li>\n",
    "      <li> [1-5a-qA-Z] = return all numbers 1-5 , lowercase letters a-q and uppercase A-Z</li>\n",
    "\n",
    "</ul>\n",
    "\n",
    "\n",
    "\n",
    "\n",
    "       \n",
    "</ul>"
   ]
  },
  {
   "cell_type": "markdown",
   "metadata": {},
   "source": [
    "<ul><b>regex most commonly methods</b>\n",
    "<li>re.match()= checks  for a match only at the beginning of the string</li>\n",
    "    <li>re.search() = checks for a match anywhere in the string </li>\n",
    "<li> re.find()= find all i,stance of the word in a string</li>\n",
    "<li>re.split()= split and separate a string into multiple strings</li>\n",
    "<li>re.sub()= split and separate a string into multiple strings</li>\n",
    "<li>re.compile()= convert a pattern into objects</li>\n",
    "</ul>"
   ]
  },
  {
   "cell_type": "markdown",
   "metadata": {},
   "source": [
    "<b>Raw string nottion</b> \n",
    "> \"\\n\" is a one character string containing a newline\n",
    "backslashes are not handled in any special way in a string literal prefix with 'r'='\\n'\n",
    "> r'\\n' is a two character string containing \"\\ \" and 'n' while '\\n' is one character string containing a newline\n",
    ">usaulay patterns will be expressed in python code using this raw string notation ; exp:\n",
    "    r'(\\w+)(\\w+)''"
   ]
  },
  {
   "cell_type": "markdown",
   "metadata": {},
   "source": [
    "## Match()"
   ]
  },
  {
   "cell_type": "code",
   "execution_count": 17,
   "metadata": {},
   "outputs": [
    {
     "name": "stdout",
     "output_type": "stream",
     "text": [
      "match\n",
      "not match !!!\n"
     ]
    }
   ],
   "source": [
    "# re.match(pattern,string) : the match method checks for a match only at the beginning of the string\n",
    "import re\n",
    "pattern = r\"kahina\"\n",
    "sequence = \"kahina sassi , says hello!\"\n",
    "if re.match(pattern, sequence):\n",
    "    print(\"match\")\n",
    "else:\n",
    "        print(\"not match !!!\")\n",
    "#exp 2\n",
    "sequence = \"Kahina sassi , says hello!\"\n",
    "if re.match(pattern, sequence):\n",
    "    print(\"match\")\n",
    "else:\n",
    "        print(\"not match !!!\")"
   ]
  },
  {
   "cell_type": "code",
   "execution_count": 128,
   "metadata": {},
   "outputs": [
    {
     "name": "stdout",
     "output_type": "stream",
     "text": [
      "<re.Match object; span=(0, 2), match='av'>\n",
      "av\n"
     ]
    }
   ],
   "source": [
    "import re\n",
    "result = re.match(r'av','av analytic vidhya av')\n",
    "print(result)\n",
    "print(result.group(0))"
   ]
  },
  {
   "cell_type": "code",
   "execution_count": 6,
   "metadata": {},
   "outputs": [
    {
     "name": "stdout",
     "output_type": "stream",
     "text": [
      "None\n"
     ]
    }
   ],
   "source": [
    "result = re.match(r'analytic','av analytic vidhya av')\n",
    "print(result)\n"
   ]
  },
  {
   "cell_type": "code",
   "execution_count": 7,
   "metadata": {},
   "outputs": [
    {
     "name": "stdout",
     "output_type": "stream",
     "text": [
      "0\n",
      "2\n"
     ]
    }
   ],
   "source": [
    "result = re.match(r'AV','AV analytic vidhya AV')\n",
    "print(result.start())\n",
    "print(result.end())\n"
   ]
  },
  {
   "cell_type": "code",
   "execution_count": 10,
   "metadata": {},
   "outputs": [
    {
     "name": "stdout",
     "output_type": "stream",
     "text": [
      "yes\n",
      "noo\n",
      "noo\n"
     ]
    }
   ],
   "source": [
    "#validate a phone nbr(phone nbr must be of 10 digits and start with 8 or 9)\n",
    "\n",
    "li=['9899999999','99990-77','99999*99999']\n",
    "for val in li:\n",
    "    if re.match(r'[8-9]{1}[0-9]{9}',val) and len(val) ==10:\n",
    "        print('yes')\n",
    "    else:\n",
    "        print('noo')\n",
    "\n",
    "\n"
   ]
  },
  {
   "cell_type": "code",
   "execution_count": 135,
   "metadata": {},
   "outputs": [
    {
     "name": "stdout",
     "output_type": "stream",
     "text": [
      "\\\n"
     ]
    }
   ],
   "source": [
    "#how to escape : a blacklash is used to define special characters in regex\n",
    "result = re.match('\\\\\\\\','\\\\author')\n",
    "print(result.group())"
   ]
  },
  {
   "cell_type": "code",
   "execution_count": 136,
   "metadata": {},
   "outputs": [
    {
     "name": "stdout",
     "output_type": "stream",
     "text": [
      "اللغة\n"
     ]
    }
   ],
   "source": [
    "#unicode languages chercher les lettre qlq et faire un match arreter cas d'espace\n",
    "result = re.match('\\w+',u'اللغة العربية لغة غنية ومعقدة يستخدمها أكثر من 400 مليون متحدث حول العالم',re.UNICODE)\n",
    "print(result.group())"
   ]
  },
  {
   "cell_type": "code",
   "execution_count": 16,
   "metadata": {},
   "outputs": [
    {
     "name": "stdout",
     "output_type": "stream",
     "text": [
      "matched\n"
     ]
    }
   ],
   "source": [
    "if re.match(u'اللغة',u'اللغة العربية لغة غنية ومعقدة يستخدمها أكثر من 400 مليون متحدث حول العالم',re.UNICODE):\n",
    "    print(\"matched\")\n",
    "else:\n",
    "    print(\"not matched\")\n"
   ]
  },
  {
   "cell_type": "markdown",
   "metadata": {},
   "source": [
    "## Search()"
   ]
  },
  {
   "cell_type": "code",
   "execution_count": 19,
   "metadata": {},
   "outputs": [
    {
     "name": "stdout",
     "output_type": "stream",
     "text": [
      "<re.Match object; span=(3, 12), match='analytics'>\n",
      "analytics\n"
     ]
    }
   ],
   "source": [
    "#re.search(pattern,string): cheks for a match anywhere in the string\n",
    "\n",
    "import re \n",
    "result = re.search(r'analytics','av analytics vidhiya av')\n",
    "print(result)\n",
    "print(result.group(0))\n"
   ]
  },
  {
   "cell_type": "code",
   "execution_count": 21,
   "metadata": {},
   "outputs": [
    {
     "name": "stdout",
     "output_type": "stream",
     "text": [
      "<re.Match object; span=(1, 4), match='iig'>\n",
      "iig\n"
     ]
    }
   ],
   "source": [
    "# .= any char but \\n\n",
    "\n",
    "result=re.search(r'..g','piig')\n",
    "print(result)\n",
    "print(result.group(0))"
   ]
  },
  {
   "cell_type": "code",
   "execution_count": 25,
   "metadata": {},
   "outputs": [
    {
     "name": "stdout",
     "output_type": "stream",
     "text": [
      "123\n",
      "abc\n"
     ]
    }
   ],
   "source": [
    "# \\d = digit char,\\w = word char\n",
    "\n",
    "result = re.search(r'\\d\\d\\d','p123g')\n",
    "print(result.group(0))\n",
    "result=re.search(r'\\w\\w\\w','@@abcd!!')\n",
    "print(result.group(0))\n"
   ]
  },
  {
   "cell_type": "code",
   "execution_count": 26,
   "metadata": {},
   "outputs": [
    {
     "name": "stdout",
     "output_type": "stream",
     "text": [
      "pii\n"
     ]
    }
   ],
   "source": [
    "# i+= one or more i's , as many as possible\n",
    "result = re.search(r'pi+', 'piig')\n",
    "if result:\n",
    "    print(result.group())"
   ]
  },
  {
   "cell_type": "code",
   "execution_count": 137,
   "metadata": {},
   "outputs": [
    {
     "name": "stdout",
     "output_type": "stream",
     "text": [
      "1 2  3\n",
      "12 3\n",
      "123\n"
     ]
    }
   ],
   "source": [
    "# \\s* = zero or more whitespace chars, ## here look for 3 digits, possibly separated by whitespace\n",
    "\n",
    "result = re.search(r'\\d\\s*\\d\\s*\\d','xx1 2  3xx')\n",
    "print(result.group())\n",
    "\n",
    "result=re.search(r'\\d\\s*\\d\\s*\\d','xx12 3xx')\n",
    "print(result.group())\n",
    "\n",
    "result=re.search(r'\\d\\s*\\d\\s*\\d','xx123xx')\n",
    "print(result.group())\n",
    "\n",
    "\n"
   ]
  },
  {
   "cell_type": "code",
   "execution_count": 141,
   "metadata": {},
   "outputs": [
    {
     "name": "stdout",
     "output_type": "stream",
     "text": [
      "bar\n"
     ]
    }
   ],
   "source": [
    "# ^ = matches the start of string\n",
    "\n",
    "result = re.search(r'b\\w+','foobar')\n",
    "print(result.group())"
   ]
  },
  {
   "cell_type": "code",
   "execution_count": 33,
   "metadata": {},
   "outputs": [
    {
     "name": "stdout",
     "output_type": "stream",
     "text": [
      "kahina@gmail\n",
      "sassi-kahina@gmail.com\n"
     ]
    }
   ],
   "source": [
    "# here's an attempt using the pattern r'\\w+@\\w+'\n",
    "\n",
    "str = 'mon mail est : sassi-kahina@gmail.com j utilise gmail'\n",
    "match=re.search(r'\\w+@+\\w+',str)\n",
    "if match:\n",
    "    print(match.group())\n",
    "\n",
    "match = re.search(r'[\\w.-]+@[\\w.-]+',str)\n",
    "if match:\n",
    "    print(match.group())"
   ]
  },
  {
   "cell_type": "code",
   "execution_count": 144,
   "metadata": {},
   "outputs": [
    {
     "name": "stdout",
     "output_type": "stream",
     "text": [
      "sassikahina@gmail.com\n",
      "sassikahina\n",
      "gmail.com\n"
     ]
    }
   ],
   "source": [
    "#the \"group\" feature of a regular expression allows you to pick out parts of the matching text\n",
    "str = 'mon mail est : sassikahina@gmail.com j utilise gmail'\n",
    "match = re.search(r'([\\w.-]+)@([\\w.-]+)',str)\n",
    "if match:\n",
    "    print(match.group())\n",
    "    print(match.group(1))\n",
    "    print(match.group(2))\n",
    "\n"
   ]
  },
  {
   "cell_type": "code",
   "execution_count": 34,
   "metadata": {},
   "outputs": [
    {
     "name": "stdout",
     "output_type": "stream",
     "text": [
      "brown\n"
     ]
    }
   ],
   "source": [
    "#this pattern tries to match the closest string that is followed by a space character and the word for\n",
    "\n",
    "result = re.search(r'\\w+(?=\\sfox)','the quick brown fox')\n",
    "print(result.group())"
   ]
  },
  {
   "cell_type": "code",
   "execution_count": 36,
   "metadata": {},
   "outputs": [
    {
     "name": "stdout",
     "output_type": "stream",
     "text": [
      "<html> <html>\n"
     ]
    }
   ],
   "source": [
    "# search mutilines \n",
    "result = re.search(r'^<html>','\\n<html>',re.MULTILINE)\n",
    "# search a succed thanks to multpline\n",
    "ANOTHER= re.search(r'^<html>','\\n<html>',re.MULTILINE)\n",
    "\n",
    "print(result.group(),ANOTHER.group())"
   ]
  },
  {
   "cell_type": "code",
   "execution_count": 37,
   "metadata": {},
   "outputs": [
    {
     "name": "stdout",
     "output_type": "stream",
     "text": [
      "looking for \"this\" in \"does this text match the patterns?\" ->found a match !\n",
      "looking for \"that\" in \"does this text match the patterns?\" ->no match !\n",
      "looking for \"hussam\" in \"does this text match the patterns?\" ->no match !\n",
      "looking for \"text\" in \"does this text match the patterns?\" ->found a match !\n"
     ]
    }
   ],
   "source": [
    "# finding patterns in text\n",
    "patterns = ['this','that','hussam','text']\n",
    "text='does this text match the patterns?'\n",
    "for pattern in patterns:\n",
    "    print('looking for \"%s\" in \"%s\" ->' % (pattern,text), end=\"\")\n",
    "    \n",
    "    if re.search(pattern,text) :\n",
    "        print('found a match !')\n",
    "    else:\n",
    "        print('no match !')\n",
    "\n",
    "\n"
   ]
  },
  {
   "cell_type": "markdown",
   "metadata": {},
   "source": [
    "## Find all"
   ]
  },
  {
   "cell_type": "code",
   "execution_count": 38,
   "metadata": {},
   "outputs": [
    {
     "name": "stdout",
     "output_type": "stream",
     "text": [
      "['av', 'av']\n"
     ]
    }
   ],
   "source": [
    "# re.findall(pattern,string) : find all instance of words in a string\n",
    "result = re.findall(r'av','av analitics vidhya av ')\n",
    "print(result)\n",
    "\n"
   ]
  },
  {
   "cell_type": "code",
   "execution_count": 39,
   "metadata": {},
   "outputs": [
    {
     "name": "stdout",
     "output_type": "stream",
     "text": [
      "['a', 'v', ' ', 'i', 's', ' ', 'l', 'a', 'r', 'g', 'e', 's', 't', ' ', 'a', 'n', 'a', 'l', 'y', 't', 'i', 'c', 's', ' ', 'c', 'o', 'm', 'm', 'u', 'n', 'i', 't', 'y', ' ', 'o', 'f', ' ', 'i', 'n', 'd', 'i', 'a']\n"
     ]
    }
   ],
   "source": [
    "#extract each character (using \".\") every single thing and espace too\n",
    "\n",
    "result= re.findall(r'.','av is largest analytics community of india')\n",
    "print(result)"
   ]
  },
  {
   "cell_type": "code",
   "execution_count": 40,
   "metadata": {},
   "outputs": [
    {
     "name": "stdout",
     "output_type": "stream",
     "text": [
      "['A', 'V', 'i', 's', 'l', 'a', 'r', 'g', 'e', 's', 't', 'a', 'n', 'a', 'l', 'y', 't', 'i', 'c', 's', 'c', 'o', 'm', 'm', 'u', 'n', 'i', 't', 'y', 'o', 'f', 'i', 'n', 'd', 'i', 'a']\n"
     ]
    }
   ],
   "source": [
    "# extract each character (using \"\\w\") each car except espace\n",
    "\n",
    "result = re.findall(r'\\w','AV is largest analytics community of india')\n",
    "print(result)\n"
   ]
  },
  {
   "cell_type": "code",
   "execution_count": 41,
   "metadata": {},
   "outputs": [
    {
     "name": "stdout",
     "output_type": "stream",
     "text": [
      "['AV', '', 'is', '', 'largest', '', 'analytics', '', 'community', '', 'of', '', 'india', '']\n"
     ]
    }
   ],
   "source": [
    "#extract each word (using \"*\") : * = match 0 or MORE repitition\n",
    "result = re.findall(r'\\w*','AV is largest analytics community of india')\n",
    "print(result)"
   ]
  },
  {
   "cell_type": "code",
   "execution_count": 42,
   "metadata": {},
   "outputs": [
    {
     "name": "stdout",
     "output_type": "stream",
     "text": [
      "['A', 'V', 'i', 's', 'l', 'a', 'r', 'g', 'e', 's', 't', 'a', 'n', 'a', 'l', 'y', 't', 'i', 'c', 's', 'c', 'o', 'm', 'm', 'u', 'n', 'i', 't', 'y', 'o', 'f', 'I', 'n', 'd', 'i', 'a']\n"
     ]
    }
   ],
   "source": [
    "#extract each word (using'+'): += match 1 or more\n",
    "\n",
    "result=re.findall(r'\\w','AV is largest analytics community of India')\n",
    "print(result)"
   ]
  },
  {
   "cell_type": "code",
   "execution_count": 43,
   "metadata": {},
   "outputs": [
    {
     "name": "stdout",
     "output_type": "stream",
     "text": [
      "['AV']\n"
     ]
    }
   ],
   "source": [
    "#extract each word (using\"^\"):^=matches start of a string\n",
    "\n",
    "result=re.findall(r'^\\w+','AV is largest analytics community of india')\n",
    "print(result)\n"
   ]
  },
  {
   "cell_type": "code",
   "execution_count": 44,
   "metadata": {},
   "outputs": [
    {
     "name": "stdout",
     "output_type": "stream",
     "text": [
      "['india']\n"
     ]
    }
   ],
   "source": [
    "#extract each word (using\"$\") :$=matches at the end of string\n",
    "\n",
    "result= re.findall(r'\\w+$','av is largest analytics community of india')\n",
    "print(result)"
   ]
  },
  {
   "cell_type": "code",
   "execution_count": 45,
   "metadata": {},
   "outputs": [
    {
     "name": "stdout",
     "output_type": "stream",
     "text": [
      "['av', 'is', 'la', 'rg', 'es', 'an', 'al', 'yt', 'ic', 'co', 'mm', 'un', 'it', 'of', 'in', 'di']\n"
     ]
    }
   ],
   "source": [
    "#each consecutive two character of each word, excluding spaces(using\"\\w\")\n",
    "\n",
    "result=re.findall(r'\\w\\w','av is largest analytics community of india')\n",
    "print(result)"
   ]
  },
  {
   "cell_type": "code",
   "execution_count": 48,
   "metadata": {},
   "outputs": [
    {
     "name": "stdout",
     "output_type": "stream",
     "text": [
      "['@kahinagmail', '@sassigmail', '@gmail', '@ssigmail']\n"
     ]
    }
   ],
   "source": [
    "#extract all character after @\n",
    "result=re.findall(r'@\\w+','sassi@kahinagmail.com,kahina@sassigmail.com,\\\n",
    "                    sassikahina@gmail.com,sa@ssigmail.com')\n",
    "print(result)"
   ]
  },
  {
   "cell_type": "code",
   "execution_count": 50,
   "metadata": {},
   "outputs": [
    {
     "name": "stdout",
     "output_type": "stream",
     "text": [
      "['@kahinagmail.com', '@sassigmail.com', '@gmail.com', '@ssigmail.com']\n"
     ]
    }
   ],
   "source": [
    "#above , you can see that \".com\" , \".in\" part is not extracted .to add it we will go with below code\n",
    "\n",
    "result=re.findall(r'@\\w+.\\w+','sassi@kahinagmail.com,kahina@sassigmail.com,\\\n",
    "                    sassikahina@gmail.com,sa@ssigmail.com')\n",
    "print(result)\n"
   ]
  },
  {
   "cell_type": "code",
   "execution_count": 52,
   "metadata": {},
   "outputs": [
    {
     "name": "stdout",
     "output_type": "stream",
     "text": [
      "['alg1', 'com', 'dz', 'fr']\n"
     ]
    }
   ],
   "source": [
    "# extract only domain name using\"()\"\n",
    "result=re.findall(r'@\\w+.(\\w+)','sassi@kahinagmail.alg1,kahina@sassigmail.com,\\\n",
    "                    sassikahina@gmail.dz,sa@ssigmail.fr')\n",
    "print(result)\n"
   ]
  },
  {
   "cell_type": "code",
   "execution_count": 56,
   "metadata": {},
   "outputs": [
    {
     "name": "stdout",
     "output_type": "stream",
     "text": [
      "['33-55-3333', '44-66-5555']\n"
     ]
    }
   ],
   "source": [
    "#here we will use '\\d' to extract digit\n",
    "\n",
    "result= re.findall(r'\\d{2}-\\d{2}-\\d{4}' ,'akj 33-55-3333 ,gyu 66-5 44-66-555556  ')\n",
    "\n",
    "print(result)"
   ]
  },
  {
   "cell_type": "code",
   "execution_count": 57,
   "metadata": {},
   "outputs": [
    {
     "name": "stdout",
     "output_type": "stream",
     "text": [
      "['3333', '5555']\n"
     ]
    }
   ],
   "source": [
    "#if you want to extract only year again paranthesis \"()\" will help you\n",
    "\n",
    "result=re.findall(r'\\d{2}-\\d{2}-(\\d{4})' ,'akj 33-55-3333 ,gyu 66-5 44-66-555556  ')\n",
    "\n",
    "print(result)\n"
   ]
  },
  {
   "cell_type": "code",
   "execution_count": 58,
   "metadata": {},
   "outputs": [
    {
     "name": "stdout",
     "output_type": "stream",
     "text": [
      "['120000', '140000', '100000']\n"
     ]
    }
   ],
   "source": [
    "#search for people with 5 or 6- figure salaries\n",
    "salaries=\"120000 140000 100000 1000 200\"\n",
    "result_list= re.findall(r\"\\d{5,6}\",salaries)\n",
    "print(result_list)"
   ]
  },
  {
   "cell_type": "code",
   "execution_count": 62,
   "metadata": {},
   "outputs": [
    {
     "name": "stdout",
     "output_type": "stream",
     "text": [
      "['av', 'is', 'argest', 'Analytics', 'ommunity', 'of', 'India']\n"
     ]
    }
   ],
   "source": [
    "#extract only that starts with specific characters\n",
    "\n",
    "result=re.findall(r'[aeiouAEEIOU]\\w+','av is largest Analytics community of India')\n",
    "print(result)"
   ]
  },
  {
   "cell_type": "code",
   "execution_count": 61,
   "metadata": {},
   "outputs": [
    {
     "name": "stdout",
     "output_type": "stream",
     "text": [
      "[' is', ' largest', ' Analytics', ' community', ' of', ' India']\n"
     ]
    }
   ],
   "source": [
    "# above you can see that it has returned \"argest\" and \"omminity\" from the mid of words. To drop these use \"\\b\"\n",
    "\n",
    "result=re.findall(r'\\b[^aeiouAEEIOU]\\w+','av is largest Analytics community of India')\n",
    "print(result)"
   ]
  },
  {
   "cell_type": "code",
   "execution_count": 81,
   "metadata": {},
   "outputs": [
    {
     "name": "stdout",
     "output_type": "stream",
     "text": [
      "[('data', 'mining'), ('big', 'data'), ('machine', 'translation'), ('data', 'analytics'), ('natural', 'language')]\n"
     ]
    }
   ],
   "source": [
    "#retrieve information from HTML file : if the pattern includes 2 or more parenthesis groups, then instead of returning a list of strings , findall() returns a list of *tuples*\n",
    "\n",
    "setr=\"\"\"<tr><td>1</td> <td>data</td> <td>mining</td></tr>\n",
    "<tr><td>2</td> <td>big</td> <td>data</td></tr>\n",
    "<tr><td>3</td> <td>machine</td> <td>translation</td></tr>\n",
    "<tr><td>4</td> <td>data</td> <td>analytics</td></tr>\n",
    "<tr><td>5</td> <td>natural</td> <td>language</td></tr>\n",
    "\"\"\"\n",
    "result=re.findall(r'<td>\\w+</td>\\s<td>(\\w+)</td>\\s<td>(\\w+)</td>',setr)\n",
    "print(result)\n",
    "\n",
    "\n",
    "\n",
    "\n"
   ]
  },
  {
   "cell_type": "code",
   "execution_count": 84,
   "metadata": {},
   "outputs": [
    {
     "name": "stdout",
     "output_type": "stream",
     "text": [
      "kahina@gmail.dz\n",
      "selma@gmail.fr\n",
      "anis@gmail.com\n"
     ]
    }
   ],
   "source": [
    "# here re.findall() returns a list of all the found email strings\n",
    "str = 'kahina kahina@gmail.dz selma selma@gmail.fr anis anis@gmail.com'\n",
    "emails=re.findall(r'[\\w\\.-]+@[\\w\\.-]+',str)\n",
    "for email in emails:\n",
    "    print(email)\n",
    "\n"
   ]
  },
  {
   "cell_type": "code",
   "execution_count": null,
   "metadata": {},
   "outputs": [],
   "source": [
    "#Reading from file\n",
    "\n",
    "f= open('test.txt','r')\n",
    "strings = re.findall(r'some pattern',f.read())\n",
    "\n"
   ]
  },
  {
   "cell_type": "code",
   "execution_count": 87,
   "metadata": {},
   "outputs": [
    {
     "name": "stdout",
     "output_type": "stream",
     "text": [
      "[('kahina', 'gmail.dz'), ('selma', 'gmail.fr'), ('anis', 'gmail.com')]\n",
      "kahina\n",
      "gmail.dz\n",
      "selma\n",
      "gmail.fr\n",
      "anis\n",
      "gmail.com\n"
     ]
    }
   ],
   "source": [
    "#if the pattern includes 2 or more parenthesis groups, then instead of returning a list of strings , findall() returns a list of \"tuples\"\n",
    "str = 'kahina kahina@gmail.dz selma selma@gmail.fr anis anis@gmail.com'\n",
    "emails=re.findall(r'([\\w\\.-]+)@([\\w\\.-]+)',str)\n",
    "print(emails)#[(kahina,'kahina@gmail.com', 'selma','selma@gmail.com')]\n",
    "for email in emails:\n",
    "    print(email[0])#USERNAME\n",
    "    print(email[1])#HOST\n",
    "\n"
   ]
  },
  {
   "cell_type": "code",
   "execution_count": 88,
   "metadata": {},
   "outputs": [
    {
     "name": "stdout",
     "output_type": "stream",
     "text": [
      "['101', '205', '189']\n"
     ]
    }
   ],
   "source": [
    "#reading a number\n",
    "text= \"#> 101 COM computer ,#>205 MAT mathematic,\\#> 189 ENG english\"\n",
    "result=re.findall('\\d+',text)\n",
    "print(result)"
   ]
  },
  {
   "cell_type": "code",
   "execution_count": 89,
   "metadata": {},
   "outputs": [
    {
     "name": "stdout",
     "output_type": "stream",
     "text": [
      "['ab', 'ab', 'ab', 'ab']\n"
     ]
    }
   ],
   "source": [
    "# 0 or more matches\n",
    "res = re.findall(r\"a*b\",\"abababab\")\n",
    "print(res)"
   ]
  },
  {
   "cell_type": "code",
   "execution_count": 90,
   "metadata": {},
   "outputs": [
    {
     "name": "stdout",
     "output_type": "stream",
     "text": [
      "[('hello', 'word'), ('I', 'lived')]\n"
     ]
    }
   ],
   "source": [
    "#match ontoo tuples\n",
    "rv =re.findall(r\"(\\w+) (\\w+)\",\"hello word ,I lived\")\n",
    "print(rv)"
   ]
  },
  {
   "cell_type": "markdown",
   "metadata": {},
   "source": [
    "## Split"
   ]
  },
  {
   "cell_type": "code",
   "execution_count": 91,
   "metadata": {},
   "outputs": [
    {
     "name": "stdout",
     "output_type": "stream",
     "text": [
      "['anal', 'tic']\n"
     ]
    }
   ],
   "source": [
    "result = re.split(r'y','analytic')\n",
    "print(result)"
   ]
  },
  {
   "cell_type": "code",
   "execution_count": 92,
   "metadata": {},
   "outputs": [
    {
     "name": "stdout",
     "output_type": "stream",
     "text": [
      "['analyt', 'c v', 'dhya']\n"
     ]
    }
   ],
   "source": [
    "result = re.split(r'i','analytic vidhya')\n",
    "print(result)"
   ]
  },
  {
   "cell_type": "code",
   "execution_count": 93,
   "metadata": {},
   "outputs": [
    {
     "name": "stdout",
     "output_type": "stream",
     "text": [
      "['anal', 'tic']\n"
     ]
    }
   ],
   "source": [
    "result = re.split(r'y','analytic', maxsplit=1)\n",
    "print(result)"
   ]
  },
  {
   "cell_type": "code",
   "execution_count": 96,
   "metadata": {},
   "outputs": [
    {
     "name": "stdout",
     "output_type": "stream",
     "text": [
      "['asfd', 'fds', 'hoo', 'gdt', 'iii', 'll']\n"
     ]
    }
   ],
   "source": [
    "#split a string with multiple delimiters\n",
    "line = 'asfd fds;hoo,gdt.iii:ll'\n",
    "result=re.split(r'[;,:.\\s]',line)\n",
    "print(result)"
   ]
  },
  {
   "cell_type": "code",
   "execution_count": 97,
   "metadata": {},
   "outputs": [
    {
     "name": "stdout",
     "output_type": "stream",
     "text": [
      "['101', 'COM', 'computer', '', '205', 'MAT', 'mathematic', '189', 'ENG', 'english\"', '']\n"
     ]
    }
   ],
   "source": [
    "#split by spaces\n",
    "text=\"\"\"101 COM computer \n",
    "205 MAT mathematic\n",
    "189 ENG english\"\n",
    "\"\"\"\n",
    "#split the text around 1 or more space characters\n",
    "result = re.split('\\s',text)\n",
    "print(result)"
   ]
  },
  {
   "cell_type": "markdown",
   "metadata": {},
   "source": [
    "## Sub"
   ]
  },
  {
   "cell_type": "code",
   "execution_count": 98,
   "metadata": {},
   "outputs": [
    {
     "name": "stdout",
     "output_type": "stream",
     "text": [
      "av is largest analytics community of india\n"
     ]
    }
   ],
   "source": [
    "# re.sub(pattern,rel,string): search a pattern and replace with a new sub string\n",
    "\n",
    "result= re.sub(r'algeria','the world','av is largest analytics community of india')\n",
    "print(result)"
   ]
  },
  {
   "cell_type": "code",
   "execution_count": 100,
   "metadata": {},
   "outputs": [
    {
     "name": "stdout",
     "output_type": "stream",
     "text": [
      "asdffdhiiiosududoo\n"
     ]
    }
   ],
   "source": [
    "# we can use method re.sub() to replace these multipledelimiters with one as space\"\"\n",
    "line='asdf fdhi,iio;sudud;oo'\n",
    "result=re.sub(r'[;,:.\\s]', '',line)\n",
    "print(result)"
   ]
  },
  {
   "cell_type": "code",
   "execution_count": 102,
   "metadata": {},
   "outputs": [
    {
     "name": "stdout",
     "output_type": "stream",
     "text": [
      "kahina kahina@yo-yo-dyne.com selma selma@yo-yo-dyne.com anis anis@yo-yo-dyne.com\n"
     ]
    }
   ],
   "source": [
    "#here's an exp which searches for all the email addresses , and changes then to keep the user(\\1) but have yo-you-dyne.com as host\n",
    "\n",
    "str = 'kahina kahina@gmail.dz selma selma@gmail.fr anis anis@gmail.com'\n",
    "print(re.sub(r'([\\w\\.-]+)@([\\w\\.-]+)',r'\\1@yo-yo-dyne.com',str))"
   ]
  },
  {
   "cell_type": "code",
   "execution_count": 103,
   "metadata": {},
   "outputs": [
    {
     "name": "stdout",
     "output_type": "stream",
     "text": [
      "there is only __ thing __ do\n"
     ]
    }
   ],
   "source": [
    "result = re.sub(r\"[0-9]+\",\"__\",\"there is only 1 thing 2 do\")\n",
    "print(result)"
   ]
  },
  {
   "cell_type": "code",
   "execution_count": 106,
   "metadata": {},
   "outputs": [
    {
     "name": "stdout",
     "output_type": "stream",
     "text": [
      "nbr phone : 2004-954-768 \n",
      "nbr phone : 2004954768\n"
     ]
    }
   ],
   "source": [
    "phone=\"2004-954-768 #THIS A NBR PHONE\"\n",
    "#delete phone -style comment\n",
    "num=re.sub(r'#.*$',\"\",phone)# enlevé de la fin$\n",
    "print(\"nbr phone :\" ,num)\n",
    "#remove anything other than digits\n",
    "num= re.sub(r'\\D',\"\",phone)\n",
    "print(\"nbr phone :\" ,num)\n"
   ]
  },
  {
   "cell_type": "markdown",
   "metadata": {},
   "source": [
    "## Compile"
   ]
  },
  {
   "cell_type": "markdown",
   "metadata": {},
   "source": [
    "#### re.compile(pattern,repl,string)\n",
    ">you can combine a regular expression pattern into pattern objects, which can be used for pattern matching.\n",
    "it also helps to search a pattern again without rewriting it."
   ]
  },
  {
   "cell_type": "code",
   "execution_count": 111,
   "metadata": {},
   "outputs": [
    {
     "name": "stdout",
     "output_type": "stream",
     "text": [
      "['av', 'av']\n",
      "['av']\n"
     ]
    }
   ],
   "source": [
    "pattern = re.compile('av')\n",
    "result=pattern.findall('av analytics vidhlya av')\n",
    "print(result)\n",
    "result2 = pattern.findall('av is largest analytics community of india')\n",
    "print(result2) \n"
   ]
  },
  {
   "cell_type": "code",
   "execution_count": 112,
   "metadata": {},
   "outputs": [
    {
     "name": "stdout",
     "output_type": "stream",
     "text": [
      "['', '1', '0', '1', '', 'C', 'O', 'M', '', 'c', 'o', 'm', 'p', 'u', 't', 'e', 'r', '', '2', '0', '5', '', 'M', 'A', 'T', '', 'm', 'a', 't', 'h', 'e', 'm', 'a', 't', 'i', 'c', '', '1', '8', '9', '', 'E', 'N', 'G', '', 'e', 'n', 'g', 'l', 'i', 's', 'h', '\"', '', '']\n",
      "['101', 'COM', 'computer', '205', 'MAT', 'mathematic', '189', 'ENG', 'english\"', '']\n"
     ]
    }
   ],
   "source": [
    "text=\"\"\"101 COM computer \n",
    "205 MAT mathematic\n",
    "189 ENG english\"\n",
    "\"\"\"\n",
    "#split the text around 1 or more space characters\n",
    "res = re.split('\\s*',text)\n",
    "print(res)\n",
    "\n",
    "\n",
    "regex = re.compile('\\s+')\n",
    "result=regex.split(text)\n",
    "print(result)"
   ]
  },
  {
   "cell_type": "code",
   "execution_count": 115,
   "metadata": {},
   "outputs": [
    {
     "name": "stdout",
     "output_type": "stream",
     "text": [
      "text                : This is some text -- with ponctuation\n",
      "pattern                : \\bT\\w+\n",
      "Case-sensitive                : ['This']\n",
      "Case-insensitive                : ['This', 'text']\n"
     ]
    }
   ],
   "source": [
    "text = 'This is some text -- with ponctuation'\n",
    "pattern =r'\\bT\\w+'\n",
    "with_case = re.compile(pattern)\n",
    "without_case=re.compile(pattern,re.IGNORECASE)\n",
    "print('text                :',text)\n",
    "print('pattern                :',pattern)\n",
    "print('Case-sensitive                :',with_case.findall(text))\n",
    "print('Case-insensitive                :',without_case.findall(text))"
   ]
  },
  {
   "cell_type": "code",
   "execution_count": 116,
   "metadata": {},
   "outputs": [
    {
     "name": "stdout",
     "output_type": "stream",
     "text": [
      "text                : la langue arabe اللغة العربية لغة غنية ومعقدة يستخدمها أكثر من 400 مليون متحدث حول العالم\n",
      "pattern                : \\w+\n",
      "ascii               : ['la', 'langue', 'arabe', 'اللغة', 'العربية', 'لغة', 'غنية', 'ومعقدة', 'يستخدمها', 'أكثر', 'من', '400', 'مليون', 'متحدث', 'حول', 'العالم']\n",
      "UNICODE                : ['la', 'langue', 'arabe', 'اللغة', 'العربية', 'لغة', 'غنية', 'ومعقدة', 'يستخدمها', 'أكثر', 'من', '400', 'مليون', 'متحدث', 'حول', 'العالم']\n"
     ]
    }
   ],
   "source": [
    "text = u'la langue arabe اللغة العربية لغة غنية ومعقدة يستخدمها أكثر من 400 مليون متحدث حول العالم'\n",
    "pattern =r'\\w+'\n",
    "ascii_pattern = re.compile(pattern)\n",
    "unicode_pattern = re.compile(pattern,re.UNICODE)\n",
    "print('text                :',text)\n",
    "print('pattern                :',pattern)\n",
    "print('ascii               :',ascii_pattern.findall(text))\n",
    "print('UNICODE                :',unicode_pattern.findall(text))"
   ]
  },
  {
   "cell_type": "markdown",
   "metadata": {},
   "source": [
    "## Vebose"
   ]
  },
  {
   "cell_type": "markdown",
   "metadata": {},
   "source": [
    "> pattern to validate email address will illustrate how verbose mode makes working with regular expressions easier.The first version recognize addresses that end in one of three top-level domain, .com,.org and edu "
   ]
  },
  {
   "cell_type": "code",
   "execution_count": 122,
   "metadata": {},
   "outputs": [
    {
     "name": "stdout",
     "output_type": "stream",
     "text": [
      "\n",
      "condidate: sassi.kahina@gmail.com\n",
      "match\n",
      "\n",
      "condidate: sa.kahina@gmail.org\n",
      "match\n",
      "\n",
      "condidate: assi.kahina@gmail.com\n",
      "match\n",
      "\n",
      "condidate: sas.kahina@gmail.com\n",
      "match\n"
     ]
    }
   ],
   "source": [
    "address = re.compile('[\\w\\d.+-]+@([\\w\\d.+-]+\\.)+(com|org|edu)',re.UNICODE)\n",
    "\n",
    "candidates=[\n",
    "    u'sassi.kahina@gmail.com',\n",
    "    u'sa.kahina@gmail.org',\n",
    "    u'assi.kahina@gmail.com',\n",
    "    u'sas.kahina@gmail.com'\n",
    "]\n",
    "\n",
    "for condidate in candidates:\n",
    "    print()\n",
    "    print('condidate:',condidate)\n",
    "    match=address.search(condidate)\n",
    "    if match:\n",
    "        print('match')\n",
    "    else:\n",
    "        print('no match')\n",
    "    \n",
    "    "
   ]
  },
  {
   "cell_type": "code",
   "execution_count": 125,
   "metadata": {},
   "outputs": [
    {
     "name": "stdout",
     "output_type": "stream",
     "text": [
      "\n",
      "condidate: sassi.kahina@gmail.com\n",
      "match\n",
      "\n",
      "condidate: sa.kahina@gmail.org\n",
      "match\n",
      "\n",
      "condidate: assi.kahina@gmail.com\n",
      "match\n",
      "\n",
      "condidate: sas.kahina@gmail.com\n",
      "match\n"
     ]
    }
   ],
   "source": [
    "address = re.compile(\n",
    "'''\n",
    "[\\w\\d.+-]+           # username\n",
    "@               \n",
    "([\\w\\d.+-]+\\.)+     #domain name prefix\n",
    "(com|org|edu)       #we should support more top-level domains\n",
    "''',\n",
    "re.UNICODE|re.VERBOSE)\n",
    "\n",
    "\n",
    "\n",
    "candidates=[\n",
    "    u'sassi.kahina@gmail.com',\n",
    "    u'sa.kahina@gmail.org',\n",
    "    u'assi.kahina@gmail.com',\n",
    "    u'sas.kahina@gmail.com'\n",
    "]\n",
    "\n",
    "for condidate in candidates:\n",
    "    print()\n",
    "    print('condidate:',condidate)\n",
    "    match=address.search(condidate)\n",
    "    if match:\n",
    "        print('match')\n",
    "    else:\n",
    "        print('no match')\n",
    "    \n",
    "    "
   ]
  },
  {
   "cell_type": "markdown",
   "metadata": {},
   "source": [
    "> USE VERBOSE MODE EXPRESSIONS, ALLOW US TO ADD COMMENTS AND EXTRA WHITESPACE"
   ]
  },
  {
   "cell_type": "markdown",
   "metadata": {},
   "source": [
    "> USEFUL LINK:\n",
    "    https://docs.python.org/3.7/library/re.html"
   ]
  },
  {
   "cell_type": "code",
   "execution_count": null,
   "metadata": {},
   "outputs": [],
   "source": []
  },
  {
   "cell_type": "code",
   "execution_count": null,
   "metadata": {},
   "outputs": [],
   "source": []
  },
  {
   "cell_type": "code",
   "execution_count": null,
   "metadata": {},
   "outputs": [],
   "source": []
  },
  {
   "cell_type": "code",
   "execution_count": null,
   "metadata": {},
   "outputs": [],
   "source": []
  },
  {
   "cell_type": "code",
   "execution_count": null,
   "metadata": {},
   "outputs": [],
   "source": []
  }
 ],
 "metadata": {
  "kernelspec": {
   "display_name": "Python 3",
   "language": "python",
   "name": "python3"
  },
  "language_info": {
   "codemirror_mode": {
    "name": "ipython",
    "version": 3
   },
   "file_extension": ".py",
   "mimetype": "text/x-python",
   "name": "python",
   "nbconvert_exporter": "python",
   "pygments_lexer": "ipython3",
   "version": "3.7.3"
  }
 },
 "nbformat": 4,
 "nbformat_minor": 2
}
